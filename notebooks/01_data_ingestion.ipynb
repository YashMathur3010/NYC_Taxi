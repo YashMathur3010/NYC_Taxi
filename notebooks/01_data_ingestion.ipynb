{
 "cells": [
  {
   "cell_type": "code",
   "execution_count": null,
   "metadata": {},
   "outputs": [],
   "source": [
    "# Import required libraries\n",
    "import pandas as pd\n",
    "from pathlib import Path\n",
    "import requests"
   ]
  },
  {
   "cell_type": "code",
   "execution_count": null,
   "metadata": {},
   "outputs": [],
   "source": [
    "# A function to fetch data from a given URL\n",
    "def fetch_raw_data(year: int, month: int) -> str:\n",
    "    '''\n",
    "    This function fetches data from the given URL for the specified month and year.\n",
    "    '''\n",
    "    data_url = f'https://d37ci6vzurychx.cloudfront.net/trip-data/yellow_tripdata_{year}-{month:02}.parquet'\n",
    "    response = requests.get(data_url)\n",
    "    if response.status_code == 200:\n",
    "        file_path = Path('..') / 'data' / 'raw' / f'taxi_rides_ingested_{year}_{month:02}.parquet'\n",
    "        file_path.parent.mkdir(parents = True, exist_ok = True)\n",
    "        file_path.write_bytes(response.content)\n",
    "        print(f'Successfully retrieved: {str(file_path)}')\n",
    "        return str(file_path)\n",
    "    else:\n",
    "        raise Exception(f'{data_url} is not available!')"
   ]
  },
  {
   "cell_type": "code",
   "execution_count": null,
   "metadata": {},
   "outputs": [
    {
     "name": "stdout",
     "output_type": "stream",
     "text": [
      "Fetching data for month:January 2023!\n",
      "Successfully retrieved: ../data/raw/taxi_rides_ingested_2023_01.parquet\n",
      "Data fetching completed for January 2023!\n"
     ]
    }
   ],
   "source": [
    "# Fetching data for all the months in a given year\n",
    "data_year = 2023\n",
    "data_month = 1\n",
    "\n",
    "month_name_number_dict_map = {1: 'January',\n",
    "                              2: 'February',\n",
    "                              3: 'March',\n",
    "                              4: 'April',\n",
    "                              5: 'May',\n",
    "                              6: 'June',\n",
    "                              7: 'July',\n",
    "                              8: 'August',\n",
    "                              9: 'September',\n",
    "                              10: 'October',\n",
    "                              11: 'November',\n",
    "                              12: 'December'}\n",
    "\n",
    "print(f'Fetching data for month:{month_name_number_dict_map[data_month]} {data_year}!')\n",
    "fetch_raw_data(data_year, data_month)\n",
    "print(f'Data fetching completed for {month_name_number_dict_map[data_month]} {data_year}!')"
   ]
  }
 ],
 "metadata": {
  "kernelspec": {
   "display_name": "nyc_taxi",
   "language": "python",
   "name": "python3"
  },
  "language_info": {
   "codemirror_mode": {
    "name": "ipython",
    "version": 3
   },
   "file_extension": ".py",
   "mimetype": "text/x-python",
   "name": "python",
   "nbconvert_exporter": "python",
   "pygments_lexer": "ipython3",
   "version": "3.11.11"
  }
 },
 "nbformat": 4,
 "nbformat_minor": 2
}
